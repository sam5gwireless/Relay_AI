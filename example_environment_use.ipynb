{
 "cells": [
  {
   "cell_type": "code",
   "execution_count": 1,
   "metadata": {},
   "outputs": [
    {
     "name": "stdout",
     "output_type": "stream",
     "text": [
      "State:\n",
      "{'UE_SNRs': [1.8386591787304383, 25.95067577209761, 10.527459176249721, 16.688525241500884], 'UE_Coords': [(-99.92603735281781, 80.11298087189019), (0.0782983038838107, -45.079378955349924), (30.117777187887413, 89.91052818030832), (-60.04821269294997, -34.789158656208166)], 'D_SNRs': [15.925504340257817, 15.926453908760664], 'D_Beams': [0, 0], 'R_Beams': [0, 0], 'Gains': [100, 100]}\n",
      "Reward:\n",
      "13.751262020524337\n",
      "State:\n",
      "{'UE_SNRs': [1.7972420257393082, 25.944761363149865, 10.34206207954469, 16.662708755972744], 'UE_Coords': [(-99.93063672480166, 80.30006632264147), (0.019747554118683786, -45.251425778997266), (30.239874292423814, 89.68242322655132), (-60.257419788711864, -34.56740339198675)], 'D_SNRs': [15.925613883154597, 15.925512254653313], 'D_Beams': [0, 0], 'R_Beams': [1, 0], 'Gains': [100, 99]}\n",
      "Reward:\n",
      "13.686678976791129\n"
     ]
    }
   ],
   "source": [
    "from Env import *\n",
    "\n",
    "#instantiating two instances of the enviornment slow and fast\n",
    "#slow is static and the UEs do not move around but fast is mobile and the UEs move around\n",
    "relay_net_slow, relay_net_fast= create_example_env()\n",
    "\n",
    "#evrytime we want to get an update of the environmet state and reward we call the .update_state\n",
    "#it returns a dictionary with different observtation of the environment \n",
    "State,Reward=relay_net_fast.update_state()\n",
    "\n",
    "print('State:')\n",
    "print(State)\n",
    "print('Reward:')\n",
    "print(Reward)\n",
    "\n",
    "\n",
    "#for this environmnet there are two repeaters so the Action is 2 dimensional\n",
    "#every action is an integet between 1 and 7\n",
    "Action=[1,6]\n",
    "\n",
    "#To apply the action we call the .apply_action\n",
    "relay_net_fast.apply_action(Action)\n",
    "\n",
    "\n",
    "#to observer the new state and reward after we apply the action we call the .update_state again\n",
    "State,Reward=relay_net_fast.update_state()\n",
    "\n",
    "print('State:')\n",
    "print(State)\n",
    "print('Reward:')\n",
    "print(Reward)"
   ]
  }
 ],
 "metadata": {
  "kernelspec": {
   "display_name": "Python 3",
   "language": "python",
   "name": "python3"
  },
  "language_info": {
   "codemirror_mode": {
    "name": "ipython",
    "version": 3
   },
   "file_extension": ".py",
   "mimetype": "text/x-python",
   "name": "python",
   "nbconvert_exporter": "python",
   "pygments_lexer": "ipython3",
   "version": "3.6.8"
  }
 },
 "nbformat": 4,
 "nbformat_minor": 2
}
